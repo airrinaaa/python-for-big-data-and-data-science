{
  "nbformat": 4,
  "nbformat_minor": 0,
  "metadata": {
    "colab": {
      "provenance": []
    },
    "kernelspec": {
      "name": "python3",
      "display_name": "Python 3"
    },
    "language_info": {
      "name": "python"
    }
  },
  "cells": [
    {
      "cell_type": "markdown",
      "source": [
        "# I. OOP"
      ],
      "metadata": {
        "id": "5qV_sehzFCTp"
      }
    },
    {
      "cell_type": "markdown",
      "source": [
        "1. (6б). Створіть клас Building, додайте три атрибути, один з яких має значення за замовчуванням та два методи на свій розсуд."
      ],
      "metadata": {
        "id": "tx_U_hOALyfg"
      }
    },
    {
      "cell_type": "code",
      "source": [
        "class Building:\n",
        "  def __init__(self, name, floors, residents=0, address=\"Unknown addsress\"):\n",
        "    self.name = name;\n",
        "    self.address = address;\n",
        "    self.floors = floors;\n",
        "    self.residents = residents;\n",
        "\n",
        "  def build_new_floor(self):\n",
        "    self.floors += 1;\n",
        "    print(f\"A new floor was built. The number of floors of {self.name}: {self.floors}\");\n",
        "\n",
        "  def add_residents(self, number):\n",
        "    self.residents += number;\n",
        "    print(f\"{number} of residents were settled in the building! The number of residents in {self.name}: {self.residents}\");"
      ],
      "metadata": {
        "id": "-Vf895KaL88N"
      },
      "execution_count": 16,
      "outputs": []
    },
    {
      "cell_type": "markdown",
      "source": [
        "2. (2б). Створіть два обʼєкти цього класу, де один з обʼєктів створюється із дефолтним значенням атрибуту. На одному обʼєкті отримайте значення його атрибуту, а на іншому викличте один з його методів."
      ],
      "metadata": {
        "id": "X_UlOMB0L93w"
      }
    },
    {
      "cell_type": "code",
      "source": [
        "building1 = Building(name=\"Obolon Plaza\", floors=10);\n",
        "building2 = Building(name=\"Pryluky Plaza\", floors=5,residents=50, address=\"Konstyantynivska street, 120\");\n",
        "print(f\"Address of {building1.name}: {building1.address}\");\n",
        "building2.build_new_floor();\n"
      ],
      "metadata": {
        "id": "7gBu0ESOMCpG",
        "colab": {
          "base_uri": "https://localhost:8080/"
        },
        "outputId": "b4477a71-82fb-42f1-847c-7c997dd38950"
      },
      "execution_count": 18,
      "outputs": [
        {
          "output_type": "stream",
          "name": "stdout",
          "text": [
            "Address of Obolon Plaza: Unknown addsress\n",
            "A new floor was built. The number of floors of Pryluky Plaza: 6\n"
          ]
        }
      ]
    },
    {
      "cell_type": "markdown",
      "source": [
        "3. (5б). Створіть клас, де атрибути мають різні рівні доступу. Спробуйте отримати їхні значення та опишіть результати."
      ],
      "metadata": {
        "id": "HoqSCZt1MHn5"
      }
    },
    {
      "cell_type": "code",
      "source": [
        "class Animal:\n",
        "  def __init__(self, name, species, age):\n",
        "    self.name = name #public attribute\n",
        "    self._species = species #protected attribute\n",
        "    self.__age = age #private attribute\n",
        "\n",
        "my_dog = Animal(name=\"Richi\", species=\"Chihuahua\", age=12)\n",
        "\n",
        "print(\"Name (public attribute):\", my_dog.name)\n",
        "print(\"Species (protected attribute):\", my_dog._species)\n",
        "try:\n",
        "    print(\"Age (private attribute):\", my_dog.__age)\n",
        "except AttributeError as e:\n",
        "    print(\"Error accessing private attribute:\", e)\n",
        "\n",
        "print(\"Age (due name mangling):\", my_dog._Animal__age)\n",
        "#Public attributes can be accessed from anywhere\n",
        "#Protected attributes can be accessed, but it is not recommended to use them directly\n",
        "#Private attributes cannot be accessed directly, useing them directly occures an erro"
      ],
      "metadata": {
        "id": "r9b3vJxBMSPV",
        "colab": {
          "base_uri": "https://localhost:8080/"
        },
        "outputId": "7ee1f00b-cfcd-4eae-cd4d-8358cad3e1c9"
      },
      "execution_count": 3,
      "outputs": [
        {
          "output_type": "stream",
          "name": "stdout",
          "text": [
            "Name (public attribute): Richi\n",
            "Species (protected attribute): Chihuahua\n",
            "Error accessing private attribute: 'Animal' object has no attribute '__age'\n",
            "Age (due name mangling): 12\n"
          ]
        }
      ]
    },
    {
      "cell_type": "markdown",
      "source": [
        "4. (7б). Як ви розумієте термін self? Для чого використовується метод __init __?"
      ],
      "metadata": {
        "id": "5op2m2vgMSkZ"
      }
    },
    {
      "cell_type": "markdown",
      "source": [
        "self — це спеціальний аргумент у методах класу, який посилається на поточний об'єкт, це вказівник на об'єкт, що містить в собі інформацію про конкретрний об'єкт(його стан та про його конкретні методи). Він дозволяє отримати доступ до атрибутів і методів об'єкта всередині класу.\n",
        "Метод __init__— це конструктор класу, який автоматично викликається при створенні нового об'єкта. Він використовується для ініціалізації атрибутів об'єкта, тобто задання їх початкових значень.\n",
        "Отже, self дозволяє працювати з даними об'єкта, а __init__ допомагає задати початкові значення цих даних при створенні об'єкта.\n"
      ],
      "metadata": {
        "id": "DyiPqNRvMasx"
      }
    },
    {
      "cell_type": "markdown",
      "source": [
        "5. (9б). Створіть клас 3D-фігура без атрибутів, з методом get_volume для отримання об'єму фігури, що повертає 0 та __add __, який приймає self та other в якості аргументів, а повертає суму об'ємів 3d-фігур self та other."
      ],
      "metadata": {
        "id": "-6X8EGfjMd2y"
      }
    },
    {
      "cell_type": "code",
      "source": [
        "class Figure3D:\n",
        "  def __init__(self):\n",
        "    pass;\n",
        "\n",
        "  def get_volume(self):\n",
        "    return 0;\n",
        "\n",
        "  def __add__(self, other):\n",
        "    return self.get_volume() + other.get_volume();"
      ],
      "metadata": {
        "id": "4rvO_wYUMaEr"
      },
      "execution_count": 8,
      "outputs": []
    },
    {
      "cell_type": "markdown",
      "source": [
        "6. (11б). Створіть 2 дочірніх класи від 3d-фігура: Циліндр та Куб, які мають атрибути, необхідні для розрахунку об'єму. Визначте метод get_volume в кожному з них так, щоби вони розраховували об'єм у залежності від формули для кожного типу фігури. Створіть обʼєкт класу Циліндр та обʼєкт класу Куб. Виконайте операцію суми за допомогою оператора + між ними, аби знайти сумарний об'єм."
      ],
      "metadata": {
        "id": "SFcKnnv5Mo_z"
      }
    },
    {
      "cell_type": "code",
      "source": [
        "import math\n",
        "\n",
        "class Cylinder(Figure3D):\n",
        "  def __init__(self, radius, height):\n",
        "    self.radius = radius;\n",
        "    self.height = height;\n",
        "\n",
        "  def get_volume(self):\n",
        "    return math.pi * (self.radius ** 2) * self.height;\n",
        "\n",
        "class Cube(Figure3D):\n",
        "    def __init__(self, side):\n",
        "        self.side = side;\n",
        "\n",
        "    def get_volume(self):\n",
        "        return self.side ** 3;\n",
        "\n",
        "cylinder = Cylinder(radius=2, height=7);\n",
        "cube = Cube(side=10);\n",
        "print(\"Volume of cylinder:\", cylinder.get_volume());\n",
        "print(\"Volume of cube:\", cube.get_volume());\n",
        "\n",
        "total_volume = cylinder.__add__(cube);\n",
        "print(\"Total volume:\", total_volume);"
      ],
      "metadata": {
        "id": "H3GVNr69Muf3",
        "colab": {
          "base_uri": "https://localhost:8080/"
        },
        "outputId": "c968ee24-b0f7-4276-c377-1e668d14a074"
      },
      "execution_count": 11,
      "outputs": [
        {
          "output_type": "stream",
          "name": "stdout",
          "text": [
            "Volume of cylinder: 87.96459430051421\n",
            "Volume of cube: 1000\n",
            "Total volume: 1087.9645943005141\n"
          ]
        }
      ]
    },
    {
      "cell_type": "markdown",
      "source": [
        "7. (3б). Продемонструйте різницю між isinstance та issubclass."
      ],
      "metadata": {
        "id": "HCvR206YMvLK"
      }
    },
    {
      "cell_type": "code",
      "source": [
        "class Animal:\n",
        "  def __init__(self):\n",
        "    pass;\n",
        "class Cat(Animal):\n",
        "  def __init__(self):\n",
        "    pass;\n",
        "\n",
        "my_cat = Cat();\n",
        "my_animal = Animal();\n",
        "print(\"Is my_cat an instance of Cat?\", isinstance(my_cat, Cat));\n",
        "print(\"Is my_cat an instance of Animal?\", isinstance(my_cat, Animal));\n",
        "print(\"Is my_animal an instance of Cat?\", isinstance(my_animal, Cat));\n",
        "\n",
        "print(\"Is Cat a subclass of Animal?\", issubclass(Cat, Animal));\n",
        "print(\"Is Animal a subclass of Cat?\", issubclass(Animal, Cat));"
      ],
      "metadata": {
        "id": "L_V1bBvDM0GN",
        "colab": {
          "base_uri": "https://localhost:8080/"
        },
        "outputId": "857eed2d-a17a-49ba-9c7d-98dfc342f219"
      },
      "execution_count": 12,
      "outputs": [
        {
          "output_type": "stream",
          "name": "stdout",
          "text": [
            "Is my_cat an instance of Cat? True\n",
            "Is my_cat an instance of Animal? True\n",
            "Is my_animal an instance of Cat? False\n",
            "Is Cat a subclass of Animal? True\n",
            "Is Animal a subclass of Cat? False\n"
          ]
        }
      ]
    },
    {
      "cell_type": "markdown",
      "source": [
        "8. (13б). Створіть клас EWallet з приватними атрибутами balance та id. Реалізуйте методи поповнення та зняття коштів, забезпечивши належну інкапсуляцію. Підказка: використовуйте декоратори property та setter."
      ],
      "metadata": {
        "id": "jjsaBZ-iM0Qq"
      }
    },
    {
      "cell_type": "code",
      "source": [
        "class EWallet:\n",
        "  def __init__(self, wallet_id, initial_balance=0):\n",
        "    self.__id = wallet_id;\n",
        "    self.__balance = initial_balance;\n",
        "\n",
        "  @property\n",
        "  def balance(self):\n",
        "    return self.__balance;\n",
        "\n",
        "  @balance.setter\n",
        "  def balance(self, value):\n",
        "    if value < 0:\n",
        "      print(\"Balance cannot be negative.\");\n",
        "      return;\n",
        "    self.__balance = value;\n",
        "\n",
        "  @property\n",
        "  def id(self):\n",
        "    return self.__id;\n",
        "\n",
        "  def adding_money(self, amount):\n",
        "    if amount <= 0:\n",
        "      print(\"If you want to withdraw money, use another method.\");\n",
        "      return;\n",
        "    self.balance += amount;\n",
        "    print(f\"Added {amount}. New balance: {self.balance}\");\n",
        "\n",
        "  def withdraw_money(self, amount):\n",
        "    if amount <= 0:\n",
        "      print(\"Amount you want to withdraw must be positive.\");\n",
        "      return;\n",
        "    if amount > self.balance:\n",
        "      print(f\"It is impossible to withdraw {amount}. The balance on your wallet is {self.balance}.\");\n",
        "      return;\n",
        "    self.balance -= amount;\n",
        "    print(f\"Withdrew {amount}. New balance: {self.balance}\");\n",
        "\n",
        "\n",
        "wallet = EWallet(\"1\", 100);\n",
        "print(f\"Wallet id: {wallet.id}\");\n",
        "print(f\"Wallet ballance: {wallet.balance}\");\n",
        "wallet.adding_money(50);\n",
        "wallet.withdraw_money(30);\n",
        "wallet.adding_money(-10);\n",
        "wallet.withdraw_money(200);\n",
        "wallet.withdraw_money(-20);\n"
      ],
      "metadata": {
        "id": "xCvZ7lh8M7YA",
        "colab": {
          "base_uri": "https://localhost:8080/"
        },
        "outputId": "63b16c77-fcf4-4fb8-91db-01bdc91507fd"
      },
      "execution_count": 4,
      "outputs": [
        {
          "output_type": "stream",
          "name": "stdout",
          "text": [
            "Wallet id: 1\n",
            "Wallet ballance: 100\n",
            "Added 50. New balance: 150\n",
            "Withdrew 30. New balance: 120\n",
            "If you want to withdraw money, use another method.\n",
            "It is impossible to withdraw 200. The balance on your wallet is 120.\n",
            "Amount you want to withdraw must be positive.\n"
          ]
        }
      ]
    },
    {
      "cell_type": "markdown",
      "source": [
        "9. (11б). Створіть клас ShoppingCart, який містить список об'єктів типу Item. Реалізуйте методи для додавання айтемів, їх видалення та відображення списку айтемів."
      ],
      "metadata": {
        "id": "tIzL2SJTM8ft"
      }
    },
    {
      "cell_type": "code",
      "source": [
        "class Item:\n",
        "  def __init__(self, name, price):\n",
        "    self.name = name;\n",
        "    self.price = price;\n",
        "\n",
        "class ShoppingCart:\n",
        "  def __init__(self):\n",
        "    self.__items = [];\n",
        "\n",
        "  @property\n",
        "  def items(self):\n",
        "    return self.__items;\n",
        "\n",
        "  def add_item(self, item):\n",
        "    self.__items.append(item);\n",
        "\n",
        "  def remove_item(self, item):\n",
        "    if item in self.__items:\n",
        "      self.__items.remove(item);\n",
        "\n",
        "  def show_items(self):\n",
        "    print(\"\\nYour Shopping Cart\\n\");\n",
        "    for item in self.__items:\n",
        "      print(f\"{item.name}: ${item.price}\");\n",
        "\n",
        "cart = ShoppingCart();\n",
        "item1 = Item(\"Dress\", 1000);\n",
        "item2 = Item(\"Suit\", 2000);\n",
        "\n",
        "cart.add_item(item1);\n",
        "cart.add_item(item2);\n",
        "cart.show_items();\n",
        "\n",
        "cart.remove_item(item1);\n",
        "cart.show_items();\n"
      ],
      "metadata": {
        "id": "HWxfJKLtNAUZ",
        "colab": {
          "base_uri": "https://localhost:8080/"
        },
        "outputId": "820d68ef-5167-45ab-d48e-0bb42f0ae96c"
      },
      "execution_count": 10,
      "outputs": [
        {
          "output_type": "stream",
          "name": "stdout",
          "text": [
            "\n",
            "Your Shopping Cart\n",
            "\n",
            "Dress: $1000\n",
            "Suit: $2000\n",
            "\n",
            "Your Shopping Cart\n",
            "\n",
            "Suit: $2000\n"
          ]
        }
      ]
    },
    {
      "cell_type": "markdown",
      "source": [
        "10. (13б). Створіть клас Vehicle з атрибутами brand (manufacturer) та production_age. Створіть ще один клас Engine з такими атрибутами, як type (ex. petrol) та size (volume, litres). Створіть клас Car, який успадковує обидва класи Vehicle та Engine. Продемонструйте використання множинної спадковості, створивши обʼєкт класу Car та отримавши mro для цього класу."
      ],
      "metadata": {
        "id": "lmV8pAwwNIqu"
      }
    },
    {
      "cell_type": "code",
      "source": [
        "class Vehicle:\n",
        "  def __init__(self, brand, production_age):\n",
        "    self.brand = brand;\n",
        "    self.production_age = production_age;\n",
        "\n",
        "class Engine:\n",
        "  def __init__(self, petrol, size):\n",
        "    self.petrol = petrol;\n",
        "    self.size = size;\n",
        "\n",
        "class Car(Vehicle, Engine):\n",
        "  def __init__(self, brand, production_age, type, size):\n",
        "    Vehicle.__init__(self, brand, production_age);\n",
        "    Engine.__init__(self, type, size);\n",
        "\n",
        "car = Car(\"Toyota\", 5, \"Gas\", 2.0);\n",
        "print(Car.mro());\n"
      ],
      "metadata": {
        "id": "R49grKlWNPeN",
        "colab": {
          "base_uri": "https://localhost:8080/"
        },
        "outputId": "72d6ab4d-48c9-436e-957e-607810a7d54c"
      },
      "execution_count": 11,
      "outputs": [
        {
          "output_type": "stream",
          "name": "stdout",
          "text": [
            "[<class '__main__.Car'>, <class '__main__.Vehicle'>, <class '__main__.Engine'>, <class 'object'>]\n"
          ]
        }
      ]
    },
    {
      "cell_type": "markdown",
      "source": [
        "# II. Iterator"
      ],
      "metadata": {
        "id": "dIJyUiNBFG8G"
      }
    },
    {
      "cell_type": "markdown",
      "source": [
        "11. (4б). Визначте рядок(str) з 4ма різними за значенням символами. Створіть ітератор на основі цього рядка. Викличте 5 разів функцію next на ітераторі, 4ри перших з них огорніть у ф-цію print()."
      ],
      "metadata": {
        "id": "13vsm0NyKIzL"
      }
    },
    {
      "cell_type": "code",
      "source": [
        "my_string = \"PieS\";\n",
        "iterator = iter(my_string);\n",
        "for i in range(4):\n",
        "    print(next(iterator));\n",
        "\n",
        "next_value = next(iterator);\n",
        "print(next_value);\n"
      ],
      "metadata": {
        "id": "81ntabAkKuz-",
        "colab": {
          "base_uri": "https://localhost:8080/",
          "height": 273
        },
        "outputId": "179ec660-2d90-4179-b30b-16f13d335c3f"
      },
      "execution_count": 12,
      "outputs": [
        {
          "output_type": "stream",
          "name": "stdout",
          "text": [
            "P\n",
            "i\n",
            "e\n",
            "S\n"
          ]
        },
        {
          "output_type": "error",
          "ename": "StopIteration",
          "evalue": "",
          "traceback": [
            "\u001b[0;31m---------------------------------------------------------------------------\u001b[0m",
            "\u001b[0;31mStopIteration\u001b[0m                             Traceback (most recent call last)",
            "\u001b[0;32m<ipython-input-12-cd4739ba4847>\u001b[0m in \u001b[0;36m<cell line: 0>\u001b[0;34m()\u001b[0m\n\u001b[1;32m      4\u001b[0m     \u001b[0mprint\u001b[0m\u001b[0;34m(\u001b[0m\u001b[0mnext\u001b[0m\u001b[0;34m(\u001b[0m\u001b[0miterator\u001b[0m\u001b[0;34m)\u001b[0m\u001b[0;34m)\u001b[0m\u001b[0;34m\u001b[0m\u001b[0;34m\u001b[0m\u001b[0m\n\u001b[1;32m      5\u001b[0m \u001b[0;34m\u001b[0m\u001b[0m\n\u001b[0;32m----> 6\u001b[0;31m \u001b[0mnext_value\u001b[0m \u001b[0;34m=\u001b[0m \u001b[0mnext\u001b[0m\u001b[0;34m(\u001b[0m\u001b[0miterator\u001b[0m\u001b[0;34m)\u001b[0m\u001b[0;34m\u001b[0m\u001b[0;34m\u001b[0m\u001b[0m\n\u001b[0m\u001b[1;32m      7\u001b[0m \u001b[0mprint\u001b[0m\u001b[0;34m(\u001b[0m\u001b[0mnext_value\u001b[0m\u001b[0;34m)\u001b[0m\u001b[0;34m\u001b[0m\u001b[0;34m\u001b[0m\u001b[0m\n",
            "\u001b[0;31mStopIteration\u001b[0m: "
          ]
        }
      ]
    },
    {
      "cell_type": "markdown",
      "source": [
        "А що якщо викликати цю ж функцію на рядку?"
      ],
      "metadata": {
        "id": "aekWHGXOLRsO"
      }
    },
    {
      "cell_type": "code",
      "source": [
        "print(next(my_string));"
      ],
      "metadata": {
        "id": "mxATGsErLV1i",
        "colab": {
          "base_uri": "https://localhost:8080/",
          "height": 146
        },
        "outputId": "fdadb7e0-8891-4394-b2bc-76f302f30acf"
      },
      "execution_count": 13,
      "outputs": [
        {
          "output_type": "error",
          "ename": "TypeError",
          "evalue": "'str' object is not an iterator",
          "traceback": [
            "\u001b[0;31m---------------------------------------------------------------------------\u001b[0m",
            "\u001b[0;31mTypeError\u001b[0m                                 Traceback (most recent call last)",
            "\u001b[0;32m<ipython-input-13-ae3bf3712850>\u001b[0m in \u001b[0;36m<cell line: 0>\u001b[0;34m()\u001b[0m\n\u001b[0;32m----> 1\u001b[0;31m \u001b[0mprint\u001b[0m\u001b[0;34m(\u001b[0m\u001b[0mnext\u001b[0m\u001b[0;34m(\u001b[0m\u001b[0mmy_string\u001b[0m\u001b[0;34m)\u001b[0m\u001b[0;34m)\u001b[0m\u001b[0;34m\u001b[0m\u001b[0;34m\u001b[0m\u001b[0m\n\u001b[0m",
            "\u001b[0;31mTypeError\u001b[0m: 'str' object is not an iterator"
          ]
        }
      ]
    },
    {
      "cell_type": "markdown",
      "source": [
        " 12. (5б). Опишіть своїми словами в одному реченні, як ви розумієте різницю між ітерабельними обʼєктами та ітераторами (можна на прикладі)."
      ],
      "metadata": {
        "id": "XwtMEopwJ4pH"
      }
    },
    {
      "cell_type": "markdown",
      "source": [
        "Ітерабельний об'єкт — це об'єкт, який можна перебирати (наприклад, список, рядок), а ітератор — це сам об'єкт, який перебирає елементи якогось ітерабельного об'єкта.Наприклад, якщо назбирали яблука з дерева в корзину і потім їх треба перебрати, то сама корзина з яблуками це ітерабельний об'єкт, а людина яка перебирає ці яблука - ітератор."
      ],
      "metadata": {
        "id": "-sHrODc3KFn8"
      }
    },
    {
      "cell_type": "markdown",
      "source": [
        "13. (11б). Створіть клас, що має визначений Iterator Protocol та при кожному виклику next повертає назву дня тижня, поки вони не вичерпаються. Зверніть увагу, що порядок має значення."
      ],
      "metadata": {
        "id": "E9qJWmNbK8Gl"
      }
    },
    {
      "cell_type": "code",
      "source": [
        "class Week:\n",
        "  def __init__(self):\n",
        "    self.list_of_days = [\"Monday\", \"Tuesday\", \"Wednesday\", \"Thursday\", \"Friday\", \"Saturday\", \"Sunday\"];\n",
        "    self.index = 0;\n",
        "\n",
        "  def __iter__(self):\n",
        "    return self;\n",
        "\n",
        "  def __next__(self):\n",
        "    if self.index < len(self.list_of_days):\n",
        "      day = self.list_of_days[self.index];\n",
        "      self.index += 1;\n",
        "      return day;\n",
        "    else:\n",
        "      raise StopIteration;\n",
        "\n",
        "week_iterator = Week();\n",
        "for day in week_iterator:\n",
        "    print(day);"
      ],
      "metadata": {
        "id": "cqx-g_RsLo6I",
        "colab": {
          "base_uri": "https://localhost:8080/"
        },
        "outputId": "f41ca23e-93ec-4234-b363-5ee5658306a8"
      },
      "execution_count": 14,
      "outputs": [
        {
          "output_type": "stream",
          "name": "stdout",
          "text": [
            "Monday\n",
            "Tuesday\n",
            "Wednesday\n",
            "Thursday\n",
            "Friday\n",
            "Saturday\n",
            "Sunday\n"
          ]
        }
      ]
    },
    {
      "cell_type": "markdown",
      "source": [
        "# Вітаю! Ви велика(ий) молодець, що впоралась(вся). Похваліть себе та побалуйте чимось приємним. Я Вами пишаюся."
      ],
      "metadata": {
        "id": "Z3E3S_s1Fv7-"
      }
    }
  ]
}